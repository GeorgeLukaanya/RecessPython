{
 "cells": [
  {
   "cell_type": "markdown",
   "id": "af05d467",
   "metadata": {},
   "source": [
    "Specific objesctives\n",
    "- Build predictive model to estimate expected movie revenue\n",
    "- Provide insight into which features influence box office success\n",
    "- Compare linear regression performance with more  advnaced models\n",
    "\n",
    "Steps\n",
    "1. Import libraries and dataset\n",
    "2. Preprocessing and modelling\n",
    "\n",
    "   a. train_test_split\n",
    "\n",
    "   b. LabelEncoder\n",
    "\n",
    "   c. StandardScaler : Scales features for better model performance\n",
    "\n",
    "   d. CountVectorizer : Converts text data into numeric vectors\n",
    "   \n",
    "   e. Metrics: Offers tools for eveluating model accuracy\n",
    "\n",
    "3. Advanced modelling\n",
    "XDGBoost : High performance gradient boosting algorithm"
   ]
  },
  {
   "cell_type": "markdown",
   "id": "182cd328",
   "metadata": {},
   "source": []
  }
 ],
 "metadata": {
  "language_info": {
   "name": "python"
  }
 },
 "nbformat": 4,
 "nbformat_minor": 5
}
