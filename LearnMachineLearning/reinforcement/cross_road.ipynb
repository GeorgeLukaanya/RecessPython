{
 "cells": [
  {
   "cell_type": "code",
   "execution_count": 8,
   "id": "01c0d869",
   "metadata": {},
   "outputs": [],
   "source": [
    "import numpy as np\n",
    "import random\n"
   ]
  },
  {
   "cell_type": "code",
   "execution_count": 9,
   "id": "dfb92911",
   "metadata": {},
   "outputs": [],
   "source": [
    "\n",
    "# Environment setup\n",
    "road_length = 5  # Positions: 0 (start) to 4 (goal)\n",
    "actions = [\"left\", \"right\"]\n"
   ]
  },
  {
   "cell_type": "code",
   "execution_count": 10,
   "id": "2e94ae99",
   "metadata": {},
   "outputs": [],
   "source": [
    "\n",
    "# Q-table (state x action)\n",
    "Q = np.zeros((road_length, len(actions)))\n"
   ]
  },
  {
   "cell_type": "code",
   "execution_count": 11,
   "id": "6107cdc7",
   "metadata": {},
   "outputs": [],
   "source": [
    "\n",
    "# Hyperparameters\n",
    "episodes = 1000  # Training episodes\n",
    "learning_rate = 0.8  # How fast the agent learns\n",
    "gamma = 0.9  # Discount factor for future rewards\n",
    "epsilon = 0.3  # Exploration rate (30% random actions)\n"
   ]
  },
  {
   "cell_type": "code",
   "execution_count": 12,
   "id": "cafb1151",
   "metadata": {},
   "outputs": [],
   "source": [
    "\n",
    "# Training loop\n",
    "for episode in range(episodes):\n",
    "    state = 0  # Start at position 0\n",
    "\n",
    "    while state != (road_length - 1):  # Goal is position 4\n",
    "        # Epsilon-greedy action selection\n",
    "        if random.uniform(0, 1) < epsilon:\n",
    "            action = random.randint(0, 1)  # Explore (random action)\n",
    "        else:\n",
    "            action = np.argmax(Q[state])  # Exploit (best known action)\n",
    "\n",
    "        # Take action and get new state\n",
    "        if action == 0:  # Move left\n",
    "            new_state = max(0, state - 1)\n",
    "        else:  # Move right\n",
    "            new_state = min(4, state + 1)\n",
    "\n",
    "        # Reward: +1 if reached goal, else 0\n",
    "        reward = 1 if new_state == 4 else 0\n",
    "\n",
    "        # Q-learning update rule\n",
    "        Q[state, action] = Q[state, action] + learning_rate * (\n",
    "            reward + gamma * np.max(Q[new_state]) - Q[state, action]\n",
    "        )\n",
    "\n",
    "        # Move to new state\n",
    "        state = new_state\n"
   ]
  },
  {
   "cell_type": "code",
   "execution_count": 13,
   "id": "ad9a6caf",
   "metadata": {},
   "outputs": [
    {
     "name": "stdout",
     "output_type": "stream",
     "text": [
      "Learned Q-table:\n",
      "[[0.6561 0.729 ]\n",
      " [0.6561 0.81  ]\n",
      " [0.729  0.9   ]\n",
      " [0.81   1.    ]\n",
      " [0.     0.    ]]\n"
     ]
    }
   ],
   "source": [
    "\n",
    "# Display learned Q-table\n",
    "print(\"Learned Q-table:\")\n",
    "print(Q)\n"
   ]
  },
  {
   "cell_type": "code",
   "execution_count": 14,
   "id": "bac59074",
   "metadata": {},
   "outputs": [
    {
     "name": "stdout",
     "output_type": "stream",
     "text": [
      "\n",
      "Agent's path to cross the road:\n",
      "Step 1: Move right → Position 1\n",
      "Step 2: Move right → Position 2\n",
      "Step 3: Move right → Position 3\n",
      "Step 4: Move right → Position 4\n",
      "\n",
      "Final path: right → right → right → right\n",
      "Goal reached in 4 steps!\n"
     ]
    }
   ],
   "source": [
    "\n",
    "# Test the trained agent\n",
    "state = 0\n",
    "steps = 0\n",
    "path = []\n",
    "print(\"\\nAgent's path to cross the road:\")\n",
    "while state != 4:\n",
    "    action = np.argmax(Q[state])  # Choose best action\n",
    "    if action == 0:\n",
    "        state = max(0, state - 1)\n",
    "        path.append(\"left\")\n",
    "    else:\n",
    "        state = min(4, state + 1)\n",
    "        path.append(\"right\")\n",
    "    steps += 1\n",
    "    print(f\"Step {steps}: Move {actions[action]} → Position {state}\")\n",
    "\n",
    "print(f\"\\nFinal path: {' → '.join(path)}\")\n",
    "print(f\"Goal reached in {steps} steps!\")\n"
   ]
  },
  {
   "cell_type": "code",
   "execution_count": null,
   "id": "35943735",
   "metadata": {},
   "outputs": [],
   "source": []
  }
 ],
 "metadata": {
  "kernelspec": {
   "display_name": "ltgwgeorge-VLsDEmAT",
   "language": "python",
   "name": "python3"
  },
  "language_info": {
   "codemirror_mode": {
    "name": "ipython",
    "version": 3
   },
   "file_extension": ".py",
   "mimetype": "text/x-python",
   "name": "python",
   "nbconvert_exporter": "python",
   "pygments_lexer": "ipython3",
   "version": "3.12.3"
  }
 },
 "nbformat": 4,
 "nbformat_minor": 5
}
