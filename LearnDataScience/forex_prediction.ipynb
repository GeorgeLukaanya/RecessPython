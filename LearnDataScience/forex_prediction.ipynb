{
 "cells": [
  {
   "cell_type": "markdown",
   "id": "57b9bddd",
   "metadata": {},
   "source": [
    "    FOREX PREDICTION DATA ANALYSIS\n",
    "\n",
    "        Objectives\n",
    "            - Load and preprocess dataset\n",
    "            - Inspect data for empty values, wrong data types, wrong formats, duplicated and outliers\n",
    "            - Analyse the data to find patterns and relationships\n",
    "            - Visualise the data to understand trends and distributions\n",
    "            - Evaluate the model performance using appropriate metrics\n",
    "            - Identify patterns and correlations in EUR/USD exchange rates movements\n",
    "            - Save the cleaned and processed data for future use"
   ]
  },
  {
   "cell_type": "code",
   "execution_count": 105,
   "id": "c700e051",
   "metadata": {},
   "outputs": [],
   "source": [
    "#Necessary imports for the script\n",
    "import pandas as pd\n",
    "import numpy as np\n",
    "import matplotlib.pyplot as plt\n",
    "import seaborn as sns\n",
    "import os\n",
    "from datetime import datetime"
   ]
  },
  {
   "cell_type": "code",
   "execution_count": 106,
   "id": "56ef33ce",
   "metadata": {},
   "outputs": [
    {
     "data": {
      "text/html": [
       "<div>\n",
       "<style scoped>\n",
       "    .dataframe tbody tr th:only-of-type {\n",
       "        vertical-align: middle;\n",
       "    }\n",
       "\n",
       "    .dataframe tbody tr th {\n",
       "        vertical-align: top;\n",
       "    }\n",
       "\n",
       "    .dataframe thead th {\n",
       "        text-align: right;\n",
       "    }\n",
       "</style>\n",
       "<table border=\"1\" class=\"dataframe\">\n",
       "  <thead>\n",
       "    <tr style=\"text-align: right;\">\n",
       "      <th></th>\n",
       "      <th>Date</th>\n",
       "      <th>Open</th>\n",
       "      <th>High</th>\n",
       "      <th>Low</th>\n",
       "      <th>Close</th>\n",
       "      <th>Volume</th>\n",
       "      <th>Predicted_Close</th>\n",
       "      <th>Currency_Pair</th>\n",
       "      <th>Signal</th>\n",
       "      <th>Confidence</th>\n",
       "    </tr>\n",
       "  </thead>\n",
       "  <tbody>\n",
       "    <tr>\n",
       "      <th>0</th>\n",
       "      <td>2024-01-01</td>\n",
       "      <td>1.18727</td>\n",
       "      <td>1.92461</td>\n",
       "      <td>0.85312</td>\n",
       "      <td>1.18154</td>\n",
       "      <td>2201</td>\n",
       "      <td>1.22984</td>\n",
       "      <td>EUR/USD</td>\n",
       "      <td>Hold</td>\n",
       "      <td>0.90</td>\n",
       "    </tr>\n",
       "    <tr>\n",
       "      <th>1</th>\n",
       "      <td>2024-01-02</td>\n",
       "      <td>1.47536</td>\n",
       "      <td>1.82881</td>\n",
       "      <td>0.54067</td>\n",
       "      <td>1.32296</td>\n",
       "      <td>error</td>\n",
       "      <td>1.03797</td>\n",
       "      <td>EUR/USD</td>\n",
       "      <td>Sell</td>\n",
       "      <td>NaN</td>\n",
       "    </tr>\n",
       "    <tr>\n",
       "      <th>2</th>\n",
       "      <td>2024-01-03</td>\n",
       "      <td>1.36600</td>\n",
       "      <td>1.78415</td>\n",
       "      <td>0.54242</td>\n",
       "      <td>1.28539</td>\n",
       "      <td>4420</td>\n",
       "      <td>1.03888</td>\n",
       "      <td>EUR/USD</td>\n",
       "      <td>Sell</td>\n",
       "      <td>NaN</td>\n",
       "    </tr>\n",
       "    <tr>\n",
       "      <th>3</th>\n",
       "      <td>2024-01-04</td>\n",
       "      <td>1.29933</td>\n",
       "      <td>1.54684</td>\n",
       "      <td>0.99332</td>\n",
       "      <td>1.17805</td>\n",
       "      <td>4079</td>\n",
       "      <td>1.00117</td>\n",
       "      <td>EUR/USD</td>\n",
       "      <td>Sell</td>\n",
       "      <td>0.64</td>\n",
       "    </tr>\n",
       "    <tr>\n",
       "      <th>4</th>\n",
       "      <td>2024-01-05</td>\n",
       "      <td>1.07801</td>\n",
       "      <td>1.68386</td>\n",
       "      <td>0.68714</td>\n",
       "      <td>NaN</td>\n",
       "      <td>1832</td>\n",
       "      <td>1.48385</td>\n",
       "      <td>EUR/USD</td>\n",
       "      <td>Sell</td>\n",
       "      <td>0.68</td>\n",
       "    </tr>\n",
       "  </tbody>\n",
       "</table>\n",
       "</div>"
      ],
      "text/plain": [
       "         Date     Open     High      Low    Close Volume  Predicted_Close  \\\n",
       "0  2024-01-01  1.18727  1.92461  0.85312  1.18154   2201          1.22984   \n",
       "1  2024-01-02  1.47536  1.82881  0.54067  1.32296  error          1.03797   \n",
       "2  2024-01-03  1.36600  1.78415  0.54242  1.28539   4420          1.03888   \n",
       "3  2024-01-04  1.29933  1.54684  0.99332  1.17805   4079          1.00117   \n",
       "4  2024-01-05  1.07801  1.68386  0.68714      NaN   1832          1.48385   \n",
       "\n",
       "  Currency_Pair Signal  Confidence  \n",
       "0       EUR/USD   Hold        0.90  \n",
       "1       EUR/USD   Sell         NaN  \n",
       "2       EUR/USD   Sell         NaN  \n",
       "3       EUR/USD   Sell        0.64  \n",
       "4       EUR/USD   Sell        0.68  "
      ]
     },
     "execution_count": 106,
     "metadata": {},
     "output_type": "execute_result"
    }
   ],
   "source": [
    "df = pd.read_csv('datasets/forex_predictions_data.csv')\n",
    "df.head()"
   ]
  },
  {
   "cell_type": "code",
   "execution_count": 107,
   "id": "5dbd17eb",
   "metadata": {},
   "outputs": [
    {
     "data": {
      "text/plain": [
       "Date                object\n",
       "Open               float64\n",
       "High               float64\n",
       "Low                float64\n",
       "Close              float64\n",
       "Volume              object\n",
       "Predicted_Close    float64\n",
       "Currency_Pair       object\n",
       "Signal              object\n",
       "Confidence         float64\n",
       "dtype: object"
      ]
     },
     "execution_count": 107,
     "metadata": {},
     "output_type": "execute_result"
    }
   ],
   "source": [
    "df.dtypes"
   ]
  },
  {
   "cell_type": "code",
   "execution_count": null,
   "id": "89d6d736",
   "metadata": {},
   "outputs": [
    {
     "data": {
      "text/plain": [
       "(229, 10)"
      ]
     },
     "execution_count": 108,
     "metadata": {},
     "output_type": "execute_result"
    }
   ],
   "source": [
    "#Key findings\n",
    "# 1. The dataset contains 229 rows and 10 columns.\n",
    "df.shape\n",
    "Matrix of Numerical Columns"
   ]
  },
  {
   "cell_type": "markdown",
   "id": "1d7ce450",
   "metadata": {},
   "source": [
    "    Handling Bad Data"
   ]
  },
  {
   "cell_type": "code",
   "execution_count": 109,
   "id": "df6f992b",
   "metadata": {},
   "outputs": [
    {
     "data": {
      "text/plain": [
       "Date                3\n",
       "Open                5\n",
       "High                9\n",
       "Low                 4\n",
       "Close              17\n",
       "Volume              3\n",
       "Predicted_Close     7\n",
       "Currency_Pair       0\n",
       "Signal              2\n",
       "Confidence         11\n",
       "dtype: int64"
      ]
     },
     "execution_count": 109,
     "metadata": {},
     "output_type": "execute_result"
    }
   ],
   "source": [
    "# Step 2: Check for missing values in each column\n",
    "df.isnull().sum()\n"
   ]
  },
  {
   "cell_type": "code",
   "execution_count": 110,
   "id": "946de7b6",
   "metadata": {},
   "outputs": [
    {
     "name": "stderr",
     "output_type": "stream",
     "text": [
      "/tmp/ipykernel_33318/2199459923.py:4: FutureWarning: A value is trying to be set on a copy of a DataFrame or Series through chained assignment using an inplace method.\n",
      "The behavior will change in pandas 3.0. This inplace method will never work because the intermediate object on which we are setting values always behaves as a copy.\n",
      "\n",
      "For example, when doing 'df[col].method(value, inplace=True)', try using 'df.method({col: value}, inplace=True)' or df[col] = df[col].method(value) instead, to perform the operation inplace on the original object.\n",
      "\n",
      "\n",
      "  df[column].fillna(df[column].mean(), inplace=True)\n"
     ]
    },
    {
     "data": {
      "text/plain": [
       "Date               3\n",
       "Open               0\n",
       "High               0\n",
       "Low                0\n",
       "Close              0\n",
       "Volume             3\n",
       "Predicted_Close    0\n",
       "Currency_Pair      0\n",
       "Signal             2\n",
       "Confidence         0\n",
       "dtype: int64"
      ]
     },
     "execution_count": 110,
     "metadata": {},
     "output_type": "execute_result"
    }
   ],
   "source": [
    "#Handling missing values in the numerical columns\n",
    "numerical_columns = ['Open', 'High', 'Low', 'Close', 'Predicted_Close', 'Confidence']\n",
    "for column in numerical_columns:\n",
    "    df[column].fillna(df[column].mean(), inplace=True)\n",
    "df.isnull().sum()"
   ]
  },
  {
   "cell_type": "code",
   "execution_count": 118,
   "id": "cdd011dd",
   "metadata": {},
   "outputs": [
    {
     "name": "stderr",
     "output_type": "stream",
     "text": [
      "/tmp/ipykernel_33318/302903854.py:4: FutureWarning: A value is trying to be set on a copy of a DataFrame or Series through chained assignment using an inplace method.\n",
      "The behavior will change in pandas 3.0. This inplace method will never work because the intermediate object on which we are setting values always behaves as a copy.\n",
      "\n",
      "For example, when doing 'df[col].method(value, inplace=True)', try using 'df.method({col: value}, inplace=True)' or df[col] = df[col].method(value) instead, to perform the operation inplace on the original object.\n",
      "\n",
      "\n",
      "  df['Volume'].fillna(df['Volume'].mode()[0], inplace=True)\n"
     ]
    },
    {
     "data": {
      "text/plain": [
       "0    2201.0\n",
       "1    1804.0\n",
       "2    4420.0\n",
       "3    4079.0\n",
       "4    1832.0\n",
       "Name: Volume, dtype: float64"
      ]
     },
     "execution_count": 118,
     "metadata": {},
     "output_type": "execute_result"
    }
   ],
   "source": [
    "\n",
    "# Step 3: Convert 'Volume' column to numeric, replacing 'error' with NaN\n",
    "df['Volume'] = pd.to_numeric(df['Volume'], errors='coerce')\n",
    "#Fill NaN values in 'Volume' with the mode of the column\n",
    "df['Volume'].fillna(df['Volume'].mode()[0], inplace=True)\n",
    "# Confirm conversion\n",
    "df['Volume'].head()\n"
   ]
  },
  {
   "cell_type": "code",
   "execution_count": 119,
   "id": "8a971d6e",
   "metadata": {},
   "outputs": [
    {
     "data": {
      "text/plain": [
       "0    2\n",
       "1    3\n",
       "2    3\n",
       "3    3\n",
       "4    3\n",
       "Name: Signal, dtype: int8"
      ]
     },
     "execution_count": 119,
     "metadata": {},
     "output_type": "execute_result"
    }
   ],
   "source": [
    "# Convert Signal column to categorical codes\n",
    "df['Signal'] = df['Signal'].astype('category').cat.codes\n",
    "df['Signal'].head()"
   ]
  },
  {
   "cell_type": "code",
   "execution_count": 120,
   "id": "1a200009",
   "metadata": {},
   "outputs": [
    {
     "name": "stderr",
     "output_type": "stream",
     "text": [
      "/tmp/ipykernel_33318/2789011485.py:4: FutureWarning: A value is trying to be set on a copy of a DataFrame or Series through chained assignment using an inplace method.\n",
      "The behavior will change in pandas 3.0. This inplace method will never work because the intermediate object on which we are setting values always behaves as a copy.\n",
      "\n",
      "For example, when doing 'df[col].method(value, inplace=True)', try using 'df.method({col: value}, inplace=True)' or df[col] = df[col].method(value) instead, to perform the operation inplace on the original object.\n",
      "\n",
      "\n",
      "  df['Date'].fillna(df['Date'].mode()[0], inplace=True)\n"
     ]
    },
    {
     "data": {
      "text/plain": [
       "0   2024-01-01\n",
       "1   2024-01-02\n",
       "2   2024-01-03\n",
       "3   2024-01-04\n",
       "4   2024-01-05\n",
       "Name: Date, dtype: datetime64[ns]"
      ]
     },
     "execution_count": 120,
     "metadata": {},
     "output_type": "execute_result"
    }
   ],
   "source": [
    "#Date column conversion\n",
    "df['Date'] = pd.to_datetime(df['Date'], errors='coerce')\n",
    "#Fill null values in 'Date' with the mode date\n",
    "df['Date'].fillna(df['Date'].mode()[0], inplace=True)\n",
    "df['Date'].head()\n"
   ]
  },
  {
   "cell_type": "code",
   "execution_count": 128,
   "id": "ab3ee968",
   "metadata": {},
   "outputs": [
    {
     "data": {
      "text/plain": [
       "np.int64(3)"
      ]
     },
     "execution_count": 128,
     "metadata": {},
     "output_type": "execute_result"
    }
   ],
   "source": [
    "#CHeck for duplicate dates\n",
    "df['Date'].duplicated().sum()\n"
   ]
  },
  {
   "cell_type": "code",
   "execution_count": 130,
   "id": "99c459da",
   "metadata": {},
   "outputs": [
    {
     "data": {
      "text/plain": [
       "np.int64(0)"
      ]
     },
     "execution_count": 130,
     "metadata": {},
     "output_type": "execute_result"
    }
   ],
   "source": [
    "#Drop duplicate rows based on 'Date' column but keep the first occurrence\n",
    "df.drop_duplicates(subset='Date', keep='first', inplace=True)\n",
    "# Confirm no duplicates remain\n",
    "df['Date'].duplicated().sum()"
   ]
  },
  {
   "cell_type": "code",
   "execution_count": 131,
   "id": "17c8a27a",
   "metadata": {},
   "outputs": [
    {
     "data": {
      "text/plain": [
       "Date               0\n",
       "Open               0\n",
       "High               0\n",
       "Low                0\n",
       "Close              0\n",
       "Volume             0\n",
       "Predicted_Close    0\n",
       "Currency_Pair      0\n",
       "Signal             0\n",
       "Confidence         0\n",
       "dtype: int64"
      ]
     },
     "execution_count": 131,
     "metadata": {},
     "output_type": "execute_result"
    }
   ],
   "source": [
    "df.isnull().sum()"
   ]
  },
  {
   "cell_type": "code",
   "execution_count": 132,
   "id": "7beb4ead",
   "metadata": {},
   "outputs": [],
   "source": [
    "#Catering for outliers in numerical columns using standard deviation method replacing outliers with mode\n",
    "def replace_outliers_with_mode(df, column):\n",
    "    mean = df[column].mean()\n",
    "    std_dev = df[column].std()\n",
    "    threshold = 3 * std_dev\n",
    "    mode = df[column].mode()[0]\n",
    "    df.loc[(df[column] < mean - threshold) | (df[column] > mean + threshold), column] = mode\n",
    "    return df\n",
    "\n",
    "for column in numerical_columns:\n",
    "    df = replace_outliers_with_mode(df, column)"
   ]
  },
  {
   "cell_type": "code",
   "execution_count": 134,
   "id": "f808502f",
   "metadata": {},
   "outputs": [
    {
     "data": {
      "image/png": "[encoded data removed]",
      "text/plain": [
       "<Figure size 1000x800 with 2 Axes>"
      ]
     },
     "metadata": {},
     "output_type": "display_data"
    }
   ],
   "source": [
    "#Correlation matrix to visualize relationships between numerical columns\n",
    "correlation_matrix = df[numerical_columns].corr()\n",
    "plt.figure(figsize=(10, 8))\n",
    "sns.heatmap(correlation_matrix, annot=True, cmap='coolwarm', fmt='.2f')\n",
    "plt.title('Correlation Heatmap of Numerical Columns')\n",
    "plt.show()\n",
    "#Visualizing the distribution of numerical columns"
   ]
  },
  {
   "cell_type": "code",
   "execution_count": null,
   "id": "da45f827",
   "metadata": {},
   "outputs": [],
   "source": []
  }
 ],
 "metadata": {
  "kernelspec": {
   "display_name": "LearnPython",
   "language": "python",
   "name": "python3"
  },
  "language_info": {
   "codemirror_mode": {
    "name": "ipython",
    "version": 3
   },
   "file_extension": ".py",
   "mimetype": "text/x-python",
   "name": "python",
   "nbconvert_exporter": "python",
   "pygments_lexer": "ipython3",
   "version": "3.12.3"
  }
 },
 "nbformat": 4,
 "nbformat_minor": 5
}
