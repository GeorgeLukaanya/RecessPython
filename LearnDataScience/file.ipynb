{
 "cells": [
  {
   "cell_type": "code",
   "execution_count": null,
   "id": "e18ccc80",
   "metadata": {},
   "outputs": [],
   "source": [
    "#Reading and Writing to files\n",
    "file = open(\"george.txt\", \"r\")\n"
   ]
  },
  {
   "cell_type": "code",
   "execution_count": 6,
   "id": "60ee9d55",
   "metadata": {},
   "outputs": [
    {
     "name": "stdout",
     "output_type": "stream",
     "text": [
      "Working with text files\n"
     ]
    }
   ],
   "source": [
    "\n",
    "#Reading the file\n",
    "content = file.read()\n",
    "#Printing the content of the file\n",
    "print(content)\n",
    "#Closing the file\n",
    "file.close()\n"
   ]
  },
  {
   "cell_type": "code",
   "execution_count": 14,
   "id": "2a042434",
   "metadata": {},
   "outputs": [
    {
     "name": "stdout",
     "output_type": "stream",
     "text": [
      "Hello, I am George!\n",
      "I love Data Engineering!\n",
      "\n"
     ]
    }
   ],
   "source": [
    "#Writing to a file\n",
    "with open(\"george.txt\", \"w\") as file:\n",
    "    file.write(\"Hello, I am George!\\n\")\n",
    "    file.write(\"I love Data Engineering!\\n\")\n",
    "\n",
    "with open(\"george.txt\", \"r\") as file:\n",
    "    content = file.read()\n",
    "    print(content)\n"
   ]
  },
  {
   "cell_type": "code",
   "execution_count": 15,
   "id": "8f5f8e55",
   "metadata": {},
   "outputs": [
    {
     "name": "stdout",
     "output_type": "stream",
     "text": [
      "Hello, I am George!\n",
      "I love Data Engineering!\n",
      "I am learning Python!\n",
      "I am excited to learn more!\n",
      "\n"
     ]
    }
   ],
   "source": [
    "#Appending to the file\n",
    "with open(\"george.txt\", \"a\") as file:\n",
    "    file.write(\"I am learning Python!\\n\")\n",
    "    file.write(\"I am excited to learn more!\\n\")\n",
    "#Reading the file again to see the changes  \n",
    "with open(\"george.txt\", \"r\") as file:\n",
    "    content = file.read()\n",
    "    print(content)"
   ]
  },
  {
   "cell_type": "code",
   "execution_count": null,
   "id": "a774e8a5",
   "metadata": {},
   "outputs": [],
   "source": []
  }
 ],
 "metadata": {
  "kernelspec": {
   "display_name": "LearnPython",
   "language": "python",
   "name": "python3"
  },
  "language_info": {
   "codemirror_mode": {
    "name": "ipython",
    "version": 3
   },
   "file_extension": ".py",
   "mimetype": "text/x-python",
   "name": "python",
   "nbconvert_exporter": "python",
   "pygments_lexer": "ipython3",
   "version": "3.12.3"
  }
 },
 "nbformat": 4,
 "nbformat_minor": 5
}
